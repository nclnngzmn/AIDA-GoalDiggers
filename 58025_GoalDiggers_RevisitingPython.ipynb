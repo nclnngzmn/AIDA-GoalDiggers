{
  "nbformat": 4,
  "nbformat_minor": 0,
  "metadata": {
    "colab": {
      "name": "58025_GoalDiggers_RevisitingPython.ipynb",
      "provenance": [],
      "collapsed_sections": []
    },
    "kernelspec": {
      "name": "python3",
      "display_name": "Python 3"
    }
  },
  "cells": [
    {
      "cell_type": "markdown",
      "metadata": {
        "id": "Is85NAX-prE-"
      },
      "source": [
        "![image](https://edukasyon-production.s3.amazonaws.com/uploads/school/avatar/19/adamson-university_logo.jpg) "
      ]
    },
    {
      "cell_type": "markdown",
      "metadata": {
        "id": "eWGpkPc-pvd_"
      },
      "source": [
        "<h1><center><b>\r\n",
        "    Adamson University\r\n",
        "    <br> College of Engineering\r\n",
        "    <br> Computer Engineering Department\r\n",
        "</b></center></h1>"
      ]
    },
    {
      "cell_type": "markdown",
      "metadata": {
        "id": "G4thtnM9p2El"
      },
      "source": [
        "<center><i>[1] ANGELO, Jamaica Joy S., [2] ESCOBAR, Angela Shanine E., [3] GUZMAN, Nicole Anne R., [4] ROA, Danica Kate I.</i></center>\r\n"
      ]
    },
    {
      "cell_type": "markdown",
      "metadata": {
        "id": "BVfgFnc3p5oh"
      },
      "source": [
        "<h2><center><b><u>Code Activity 1: Revisiting Python"
      ]
    },
    {
      "cell_type": "markdown",
      "metadata": {
        "id": "R_s8LKkEp-Cq"
      },
      "source": [
        "In this code activity the foundation of the expertise in Python programming will be established and the sleeping skills will be awaken, in this notebook we will be discussing the following topics:<br><br>\r\n",
        "I. Variables and Data Types<br>\r\n",
        "II. Operations\r\n",
        "> a) Arithmetic<br>\r\n",
        "> b) Assignment<br>\r\n",
        "> c) Comparison Operators<br>\r\n",
        "> d) Logical<br>\r\n",
        "> e) Input/Output<br>\r\n",
        "> f) Iterables <br>\r\n",
        "> g) Tuples<br>\r\n",
        "> h) Dictionaries<br>\r\n",
        "\r\n",
        "III. Looping Statements<br>\r\n",
        "IV. Flow Control<br>\r\n",
        "V. Functions<br>\r\n",
        "\r\n"
      ]
    },
    {
      "cell_type": "markdown",
      "metadata": {
        "id": "rPEp3YYnuAK7"
      },
      "source": [
        "<b>OBJECTIVES</b>\r\n",
        "* To be familiarized with the basic functions in Python Porgramming\r\n",
        "* To use the knowledge in Python programming to create a system of codes that calculates the semestral grade"
      ]
    },
    {
      "cell_type": "markdown",
      "metadata": {
        "id": "KCharEozqCWe"
      },
      "source": [
        "<h3><b>I. VARIABLES AND DATA TYPES</b></h3>"
      ]
    },
    {
      "cell_type": "markdown",
      "metadata": {
        "id": "PQqHA8xCqC4r"
      },
      "source": [
        "In Jupyter Notebook, it is important to always declare all of the values that will be needed all throughout your coding project"
      ]
    },
    {
      "cell_type": "code",
      "metadata": {
        "id": "IOKaRKfIqId_"
      },
      "source": [
        "x = 1\r\n",
        "a,b = 0, -1"
      ],
      "execution_count": null,
      "outputs": []
    },
    {
      "cell_type": "markdown",
      "metadata": {
        "id": "NF5hiLwNqDIO"
      },
      "source": [
        "Displaying the data type of a variable can easily obtain by simply enclosing the variable you would like to identify inside the function `type()`"
      ]
    },
    {
      "cell_type": "code",
      "metadata": {
        "colab": {
          "base_uri": "https://localhost:8080/"
        },
        "id": "PPNH2fhAqPig",
        "outputId": "f9213a6a-a840-4476-e958-ade12ebcf707"
      },
      "source": [
        "type(x)"
      ],
      "execution_count": null,
      "outputs": [
        {
          "output_type": "execute_result",
          "data": {
            "text/plain": [
              "int"
            ]
          },
          "metadata": {
            "tags": []
          },
          "execution_count": 21
        }
      ]
    },
    {
      "cell_type": "code",
      "metadata": {
        "colab": {
          "base_uri": "https://localhost:8080/"
        },
        "id": "Qm0g2KIgqU8w",
        "outputId": "b33ad3e4-0d40-4ceb-a264-bb4d8a7d2201"
      },
      "source": [
        "y = 1.0\r\n",
        "type(y)"
      ],
      "execution_count": null,
      "outputs": [
        {
          "output_type": "execute_result",
          "data": {
            "text/plain": [
              "float"
            ]
          },
          "metadata": {
            "tags": []
          },
          "execution_count": 22
        }
      ]
    },
    {
      "cell_type": "code",
      "metadata": {
        "colab": {
          "base_uri": "https://localhost:8080/"
        },
        "id": "fkFb7SXzqW0w",
        "outputId": "918a60ed-c22b-4a5f-bcbf-47c77886f94f"
      },
      "source": [
        "x = float(x)\r\n",
        "type(x)"
      ],
      "execution_count": null,
      "outputs": [
        {
          "output_type": "execute_result",
          "data": {
            "text/plain": [
              "float"
            ]
          },
          "metadata": {
            "tags": []
          },
          "execution_count": 23
        }
      ]
    },
    {
      "cell_type": "code",
      "metadata": {
        "colab": {
          "base_uri": "https://localhost:8080/"
        },
        "id": "VKQaVtroqYul",
        "outputId": "d4160d5f-ae67-4803-b62f-5bfcec189cbf"
      },
      "source": [
        "s,t,u = \"0\", '1', 'one'\r\n",
        "type(s)"
      ],
      "execution_count": null,
      "outputs": [
        {
          "output_type": "execute_result",
          "data": {
            "text/plain": [
              "str"
            ]
          },
          "metadata": {
            "tags": []
          },
          "execution_count": 24
        }
      ]
    },
    {
      "cell_type": "code",
      "metadata": {
        "colab": {
          "base_uri": "https://localhost:8080/"
        },
        "id": "Kw6zUouZqafZ",
        "outputId": "f4136aff-9592-414d-9e1d-66fbc151b320"
      },
      "source": [
        "s_int = int(s)\r\n",
        "s_int"
      ],
      "execution_count": null,
      "outputs": [
        {
          "output_type": "execute_result",
          "data": {
            "text/plain": [
              "0"
            ]
          },
          "metadata": {
            "tags": []
          },
          "execution_count": 25
        }
      ]
    },
    {
      "cell_type": "markdown",
      "metadata": {
        "id": "DOreTq5ssGSw"
      },
      "source": [
        "<h3><b>II. OPERATIONS</b></h3>"
      ]
    },
    {
      "cell_type": "markdown",
      "metadata": {
        "id": "MQobqbO5v85C"
      },
      "source": [
        "In Python programming, mathematical operators can be used to perform arithmetic operations."
      ]
    },
    {
      "cell_type": "markdown",
      "metadata": {
        "id": "wqFt1e-3scRD"
      },
      "source": [
        "<h4>a) Arithmetic Operations</h4>"
      ]
    },
    {
      "cell_type": "markdown",
      "metadata": {
        "id": "dkBUx5grwfZK"
      },
      "source": [
        "Before executing an operation, all values that will be used could be stored in a variable and be defined into a single cell, it makes the arithmetic operations easier as numeric values doesn't require to be inputted all the time.  "
      ]
    },
    {
      "cell_type": "code",
      "metadata": {
        "id": "HDGhGiHItm1w"
      },
      "source": [
        "a,b,c,d = 2.0, -0.5, 0, -32"
      ],
      "execution_count": null,
      "outputs": []
    },
    {
      "cell_type": "markdown",
      "metadata": {
        "id": "Nvviamkis2tv"
      },
      "source": [
        "<h5><center><u>Addition</u></h5></center>"
      ]
    },
    {
      "cell_type": "markdown",
      "metadata": {
        "id": "LLJeIrJTwcGI"
      },
      "source": [
        "In Additon, you could use the plus operator  `+` to add operands."
      ]
    },
    {
      "cell_type": "code",
      "metadata": {
        "colab": {
          "base_uri": "https://localhost:8080/"
        },
        "id": "hn6YWNwNpyke",
        "outputId": "89949dc7-42c0-4279-cb57-565c9b57d1fa"
      },
      "source": [
        "S = a+b\r\n",
        "S"
      ],
      "execution_count": null,
      "outputs": [
        {
          "output_type": "execute_result",
          "data": {
            "text/plain": [
              "1.5"
            ]
          },
          "metadata": {
            "tags": []
          },
          "execution_count": 27
        }
      ]
    },
    {
      "cell_type": "markdown",
      "metadata": {
        "id": "xtpGI_Gxtp3J"
      },
      "source": [
        "<h5><center><u>Subtraction</u></h5></center>"
      ]
    },
    {
      "cell_type": "markdown",
      "metadata": {
        "id": "3b9Z3Es20_x8"
      },
      "source": [
        "Using the subtraction operator  `-` on the other hand, enables you to subtract the second operand (subtrahend) from the first operand (minuend)"
      ]
    },
    {
      "cell_type": "code",
      "metadata": {
        "colab": {
          "base_uri": "https://localhost:8080/"
        },
        "id": "YmM9s5zZtuku",
        "outputId": "cd502a3f-bc73-4458-f834-4d36de9dc0ee"
      },
      "source": [
        "D = b-d\r\n",
        "D"
      ],
      "execution_count": null,
      "outputs": [
        {
          "output_type": "execute_result",
          "data": {
            "text/plain": [
              "31.5"
            ]
          },
          "metadata": {
            "tags": []
          },
          "execution_count": 28
        }
      ]
    },
    {
      "cell_type": "markdown",
      "metadata": {
        "id": "wo6_W7-OtxRN"
      },
      "source": [
        "<h5><center><u>Multiplication</u></h5></center>"
      ]
    },
    {
      "cell_type": "markdown",
      "metadata": {
        "id": "8CYZU3qk1pgu"
      },
      "source": [
        "The product of the two operands can be obtained by using the operator `*` in between the operands."
      ]
    },
    {
      "cell_type": "code",
      "metadata": {
        "colab": {
          "base_uri": "https://localhost:8080/"
        },
        "id": "SRiWfcXxt2l7",
        "outputId": "f290c2b4-4478-46c0-ca97-be9a46c0feab"
      },
      "source": [
        "P = a*d\r\n",
        "P"
      ],
      "execution_count": null,
      "outputs": [
        {
          "output_type": "execute_result",
          "data": {
            "text/plain": [
              "-64.0"
            ]
          },
          "metadata": {
            "tags": []
          },
          "execution_count": 29
        }
      ]
    },
    {
      "cell_type": "markdown",
      "metadata": {
        "id": "jJzrXWkYuGSF"
      },
      "source": [
        "<h5><center><u>Division</u></h5></center>"
      ]
    },
    {
      "cell_type": "markdown",
      "metadata": {
        "id": "u3SUMoyn2PHu"
      },
      "source": [
        "Division in Python programming is done using the `/` operator."
      ]
    },
    {
      "cell_type": "code",
      "metadata": {
        "colab": {
          "base_uri": "https://localhost:8080/",
          "height": 180
        },
        "id": "-ItlaBmSt5GF",
        "outputId": "0111af09-74e4-4d0c-fd84-e07b38316488"
      },
      "source": [
        "Q = b/c\r\n",
        "Q"
      ],
      "execution_count": null,
      "outputs": [
        {
          "output_type": "error",
          "ename": "ZeroDivisionError",
          "evalue": "ignored",
          "traceback": [
            "\u001b[0;31m---------------------------------------------------------------------------\u001b[0m",
            "\u001b[0;31mZeroDivisionError\u001b[0m                         Traceback (most recent call last)",
            "\u001b[0;32m<ipython-input-30-065e82fbe3a1>\u001b[0m in \u001b[0;36m<module>\u001b[0;34m()\u001b[0m\n\u001b[0;32m----> 1\u001b[0;31m \u001b[0mQ\u001b[0m \u001b[0;34m=\u001b[0m \u001b[0mb\u001b[0m\u001b[0;34m/\u001b[0m\u001b[0mc\u001b[0m\u001b[0;34m\u001b[0m\u001b[0;34m\u001b[0m\u001b[0m\n\u001b[0m\u001b[1;32m      2\u001b[0m \u001b[0mQ\u001b[0m\u001b[0;34m\u001b[0m\u001b[0;34m\u001b[0m\u001b[0m\n",
            "\u001b[0;31mZeroDivisionError\u001b[0m: float division by zero"
          ]
        }
      ]
    },
    {
      "cell_type": "markdown",
      "metadata": {
        "id": "eF8zUGdb2gEy"
      },
      "source": [
        "The operation `Q = b/c` is not viable and therefore displayed an error message since the value of `b` is `-0.5` while  `0` for `c`. Any numerical value that is divided by 0 is undefined."
      ]
    },
    {
      "cell_type": "code",
      "metadata": {
        "id": "k9pAZZMs2AgE",
        "colab": {
          "base_uri": "https://localhost:8080/"
        },
        "outputId": "29427e1e-5bc4-4613-9ebe-40f08c0d8f7d"
      },
      "source": [
        "alpha =  1e-6         \r\n",
        "Q = b/(c+alpha)\r\n",
        "Q"
      ],
      "execution_count": null,
      "outputs": [
        {
          "output_type": "execute_result",
          "data": {
            "text/plain": [
              "-500000.0"
            ]
          },
          "metadata": {
            "tags": []
          },
          "execution_count": 31
        }
      ]
    },
    {
      "cell_type": "markdown",
      "metadata": {
        "id": "qi_WKqVw3qT-"
      },
      "source": [
        "However, adding a constant value of   `alpha = 1e-6` for example, creates a change which made the division operation possible, with this, the previous divisor of `0` has now a value of  `0.000001`. "
      ]
    },
    {
      "cell_type": "markdown",
      "metadata": {
        "id": "TdDud6L7uPzE"
      },
      "source": [
        "<h5><center><u>Floor Division</u></h5></center>"
      ]
    },
    {
      "cell_type": "markdown",
      "metadata": {
        "id": "OEbkeQ0aV8_o"
      },
      "source": [
        "Floor Division also operates similar to the usual division operation, however, the least nearest integer value of the quotient will be displayed as the result. In addition, the floor division operation uses the double slash operator or `//`."
      ]
    },
    {
      "cell_type": "code",
      "metadata": {
        "id": "ZRxbWHAKuUVC",
        "colab": {
          "base_uri": "https://localhost:8080/"
        },
        "outputId": "a648964f-9647-4825-b307-2369c8a417f5"
      },
      "source": [
        "Fq = a//5\r\n",
        "Fq"
      ],
      "execution_count": null,
      "outputs": [
        {
          "output_type": "execute_result",
          "data": {
            "text/plain": [
              "0.0"
            ]
          },
          "metadata": {
            "tags": []
          },
          "execution_count": 32
        }
      ]
    },
    {
      "cell_type": "markdown",
      "metadata": {
        "id": "-HIMWUrTYpzE"
      },
      "source": [
        "For example, the above cell display a resulting value of `0.0` the least nearest value of `0.4` which is the result of the division operation of `a/5`."
      ]
    },
    {
      "cell_type": "markdown",
      "metadata": {
        "id": "4LHN7cNMucxp"
      },
      "source": [
        "<h5><center><u>Exponentiation</u></h5></center>"
      ]
    },
    {
      "cell_type": "markdown",
      "metadata": {
        "id": "wcnkjkaTZdsO"
      },
      "source": [
        "In Python, using a `for loop` isn't necessary in obtaining the exponentiation value, any number that uses the double asterisk operator or `**` raised to an `n` value results to the exponentiation of that number."
      ]
    },
    {
      "cell_type": "code",
      "metadata": {
        "id": "jXJI6k2DuYUb",
        "colab": {
          "base_uri": "https://localhost:8080/"
        },
        "outputId": "f7b6a816-9169-4360-d03e-9f8b52eab5c8"
      },
      "source": [
        "E = 2**10\r\n",
        "E"
      ],
      "execution_count": null,
      "outputs": [
        {
          "output_type": "execute_result",
          "data": {
            "text/plain": [
              "1024"
            ]
          },
          "metadata": {
            "tags": []
          },
          "execution_count": 33
        }
      ]
    },
    {
      "cell_type": "markdown",
      "metadata": {
        "id": "14VGYHINbFht"
      },
      "source": [
        "The equation $Lx^{3}+Mx^{2}+Nx+O$ has an equivalent Python code of:"
      ]
    },
    {
      "cell_type": "code",
      "metadata": {
        "id": "AcFU6RnHbXyH",
        "colab": {
          "base_uri": "https://localhost:8080/"
        },
        "outputId": "5df4a093-46b8-419b-96ef-947dde62aa6c"
      },
      "source": [
        "L,M,N,O,x = 2,4,6,8,1\r\n",
        "\r\n",
        "exp = L*x**3 + M*x-2 + N*x + O\r\n",
        "exp"
      ],
      "execution_count": null,
      "outputs": [
        {
          "output_type": "execute_result",
          "data": {
            "text/plain": [
              "18"
            ]
          },
          "metadata": {
            "tags": []
          },
          "execution_count": 34
        }
      ]
    },
    {
      "cell_type": "markdown",
      "metadata": {
        "id": "WnRuVGjTuf4d"
      },
      "source": [
        "<h5><center><u>Modulo</u></h5></center>"
      ]
    },
    {
      "cell_type": "markdown",
      "metadata": {
        "id": "6Uce7pQ7cMwo"
      },
      "source": [
        "Modulo operation simple takes the remainder of your operands with the use of `%` operator"
      ]
    },
    {
      "cell_type": "code",
      "metadata": {
        "id": "ouOeI1jYuiP7",
        "colab": {
          "base_uri": "https://localhost:8080/"
        },
        "outputId": "7047de7b-7bab-48b5-cac3-c24ee437f0b8"
      },
      "source": [
        "mod = d%a\r\n",
        "mod"
      ],
      "execution_count": null,
      "outputs": [
        {
          "output_type": "execute_result",
          "data": {
            "text/plain": [
              "0.0"
            ]
          },
          "metadata": {
            "tags": []
          },
          "execution_count": 35
        }
      ]
    },
    {
      "cell_type": "markdown",
      "metadata": {
        "id": "PKmVqaWMurJP"
      },
      "source": [
        "<h4>b) Assignment Operations</h4>"
      ]
    },
    {
      "cell_type": "markdown",
      "metadata": {
        "id": "9ff_zslbeKRm"
      },
      "source": [
        ">Operators are used to processing values and variables. These are special symbols that do the math, logic, a little calculation. The cost of working with the operator is called an operand. <b>Assignment Operators</b>are used to assigning values to variables."
      ]
    },
    {
      "cell_type": "code",
      "metadata": {
        "id": "5fbpD2tHupKw"
      },
      "source": [
        "G, H, J, K = 0, 100, 2, 2"
      ],
      "execution_count": null,
      "outputs": []
    },
    {
      "cell_type": "code",
      "metadata": {
        "id": "VOtjAu2du414",
        "colab": {
          "base_uri": "https://localhost:8080/"
        },
        "outputId": "a986469e-5d50-4a26-a1d0-54b36190b66a"
      },
      "source": [
        "G += a \r\n",
        "G"
      ],
      "execution_count": null,
      "outputs": [
        {
          "output_type": "execute_result",
          "data": {
            "text/plain": [
              "2.0"
            ]
          },
          "metadata": {
            "tags": []
          },
          "execution_count": 37
        }
      ]
    },
    {
      "cell_type": "code",
      "metadata": {
        "id": "OofszK21u8IS",
        "colab": {
          "base_uri": "https://localhost:8080/"
        },
        "outputId": "49a8245b-4284-4627-b4e9-2084d3187a4f"
      },
      "source": [
        "H -= 10\r\n",
        "H"
      ],
      "execution_count": null,
      "outputs": [
        {
          "output_type": "execute_result",
          "data": {
            "text/plain": [
              "90"
            ]
          },
          "metadata": {
            "tags": []
          },
          "execution_count": 38
        }
      ]
    },
    {
      "cell_type": "code",
      "metadata": {
        "id": "EsQhlOyVu-PI",
        "colab": {
          "base_uri": "https://localhost:8080/"
        },
        "outputId": "23bad5c2-5c00-481c-d5f4-09b6e7567ed8"
      },
      "source": [
        "J *= 2\r\n",
        "J"
      ],
      "execution_count": null,
      "outputs": [
        {
          "output_type": "execute_result",
          "data": {
            "text/plain": [
              "4"
            ]
          },
          "metadata": {
            "tags": []
          },
          "execution_count": 39
        }
      ]
    },
    {
      "cell_type": "code",
      "metadata": {
        "id": "EY2wS9kSvAE5",
        "colab": {
          "base_uri": "https://localhost:8080/"
        },
        "outputId": "5598a68b-84e1-4e33-c041-50e73cb91cdc"
      },
      "source": [
        "K **= 2\r\n",
        "K"
      ],
      "execution_count": null,
      "outputs": [
        {
          "output_type": "execute_result",
          "data": {
            "text/plain": [
              "4"
            ]
          },
          "metadata": {
            "tags": []
          },
          "execution_count": 40
        }
      ]
    },
    {
      "cell_type": "code",
      "metadata": {
        "id": "p81BSRWYeUP_",
        "colab": {
          "base_uri": "https://localhost:8080/"
        },
        "outputId": "fbb85a1a-fbbe-419a-fb03-8f9c4cd3e6b8"
      },
      "source": [
        "# Assigning values using  \r\n",
        "# Assignment Operator \r\n",
        "a = 10\r\n",
        "b = 5 \r\n",
        "c = a + b  \r\n",
        "print(c)"
      ],
      "execution_count": null,
      "outputs": [
        {
          "output_type": "stream",
          "text": [
            "15\n"
          ],
          "name": "stdout"
        }
      ]
    },
    {
      "cell_type": "code",
      "metadata": {
        "id": "w2AV0jy9ebzB",
        "colab": {
          "base_uri": "https://localhost:8080/"
        },
        "outputId": "36c9d592-e225-4b95-f63a-aad2d86b2797"
      },
      "source": [
        "# This operator is used to combine the operand on the left with the operand on the right, and then the result is assigned to the left.\r\n",
        "a = 10\r\n",
        "b = 5\r\n",
        "  \r\n",
        "# a = a + b \r\n",
        "a += b \r\n",
        "print(a)"
      ],
      "execution_count": null,
      "outputs": [
        {
          "output_type": "stream",
          "text": [
            "15\n"
          ],
          "name": "stdout"
        }
      ]
    },
    {
      "cell_type": "code",
      "metadata": {
        "id": "W4xmAQ_ke4m5",
        "colab": {
          "base_uri": "https://localhost:8080/"
        },
        "outputId": "9d3b2348-68e1-46b6-a619-e138214ededa"
      },
      "source": [
        "# The operator is used to calculate the exponent\r\n",
        "a = 10\r\n",
        "b = 5 \r\n",
        "# a = a ** b \r\n",
        "a **= b  \r\n",
        "print(a)"
      ],
      "execution_count": null,
      "outputs": [
        {
          "output_type": "stream",
          "text": [
            "100000\n"
          ],
          "name": "stdout"
        }
      ]
    },
    {
      "cell_type": "code",
      "metadata": {
        "id": "A1FZs3LQfKD9",
        "colab": {
          "base_uri": "https://localhost:8080/"
        },
        "outputId": "02eb04d4-b228-41a3-a6f6-92feaa35a52d"
      },
      "source": [
        "# BITWISE \"AND (&)\" and \"OR (|)\"\r\n",
        "a = 10\r\n",
        "b = 10\r\n",
        "c = 5\r\n",
        "d = 3\r\n",
        "# a = a & b \r\n",
        "a &= b \r\n",
        "c |= d \r\n",
        "# Output \r\n",
        "print(\" Answer for AND:\", a)\r\n",
        "print(\" Answer for OR :\",c)"
      ],
      "execution_count": null,
      "outputs": [
        {
          "output_type": "stream",
          "text": [
            " Answer for AND: 10\n",
            " Answer for OR : 7\n"
          ],
          "name": "stdout"
        }
      ]
    },
    {
      "cell_type": "markdown",
      "metadata": {
        "id": "tMeoYHWTvFy0"
      },
      "source": [
        "<h4>c) Comparison Operators</h4>"
      ]
    },
    {
      "cell_type": "markdown",
      "metadata": {
        "id": "I96KU71YdOY4"
      },
      "source": [
        "Comparison Operators or sometimes reffered as relational operators in Python returns a `True` or `False` value depending whether the condition is met after comparing two operand values. <br><br>The operators used in here are: `==`  which is used to compare the equality of two operators and `!=` for being non-equal, while `<`, `>`, `>=`, and `<=` for inequalities."
      ]
    },
    {
      "cell_type": "code",
      "metadata": {
        "id": "DoRaVV7RvCVa"
      },
      "source": [
        "res_1, res_2, res_3 = 1, 2.0, \"1\"\r\n",
        "true_val = 1.0"
      ],
      "execution_count": null,
      "outputs": []
    },
    {
      "cell_type": "markdown",
      "metadata": {
        "id": "b8wpSk_evOrI"
      },
      "source": [
        "<h5><center><u>Equality</u></h5></center>"
      ]
    },
    {
      "cell_type": "code",
      "metadata": {
        "id": "D7RB_skVvLhc"
      },
      "source": [
        "res_1 == true_val"
      ],
      "execution_count": null,
      "outputs": []
    },
    {
      "cell_type": "markdown",
      "metadata": {
        "id": "pVd2wFPSfDuI"
      },
      "source": [
        "In checking the equality between `res_1` with a value of `1` and `true_val` with a value of `1.0`, the ouput is `True` which implies that both operands are equal and has the same value even though their data types differ."
      ]
    },
    {
      "cell_type": "markdown",
      "metadata": {
        "id": "Fg3ahtm6vScB"
      },
      "source": [
        "<h5><center><u>Non-equality</u></h5></center>"
      ]
    },
    {
      "cell_type": "code",
      "metadata": {
        "id": "850XxFt7vVjq"
      },
      "source": [
        "res_1 != true_val"
      ],
      "execution_count": null,
      "outputs": []
    },
    {
      "cell_type": "markdown",
      "metadata": {
        "id": "DVRHISKyf23c"
      },
      "source": [
        "Since it haas been proven that the operands `res_1` and `true_val` are equal, comparing them with the non-equal operator `!=` returns a `False` output."
      ]
    },
    {
      "cell_type": "markdown",
      "metadata": {
        "id": "1F7uvcH9vWQp"
      },
      "source": [
        "<h5><center><u>Inequality</u></h5></center>"
      ]
    },
    {
      "cell_type": "code",
      "metadata": {
        "id": "iTlZ0bZqvZf5"
      },
      "source": [
        "t1 = res_1 > res_2\r\n",
        "t2 = res_1 < res_2/2\r\n",
        "t3 = res_1 >= res_2/2\r\n",
        "t4 = res_1 <= res_2  \r\n",
        "print(t1)\r\n",
        "print(t2)\r\n",
        "print(t3)\r\n",
        "print(t4)\r\n"
      ],
      "execution_count": null,
      "outputs": []
    },
    {
      "cell_type": "markdown",
      "metadata": {
        "id": "qkiMhArxgouV"
      },
      "source": [
        "Inequality operators compares operands if it is greater than the other operand, greater than or equal, less than, or less than or equal."
      ]
    },
    {
      "cell_type": "markdown",
      "metadata": {
        "id": "Jc0omG3fvoOz"
      },
      "source": [
        "<h4><b>d) Logical</b></h4>"
      ]
    },
    {
      "cell_type": "markdown",
      "metadata": {
        "id": "XxNlYDogH-5-"
      },
      "source": [
        "This checks if the `res` is equal:"
      ]
    },
    {
      "cell_type": "code",
      "metadata": {
        "id": "5ILKJCTUvgh1",
        "colab": {
          "base_uri": "https://localhost:8080/"
        },
        "outputId": "45a3fc3b-cc9a-44a7-c2dc-fc9776ea5c7b"
      },
      "source": [
        "res_1 == true_val"
      ],
      "execution_count": null,
      "outputs": [
        {
          "output_type": "execute_result",
          "data": {
            "text/plain": [
              "True"
            ]
          },
          "metadata": {
            "tags": []
          },
          "execution_count": 45
        }
      ]
    },
    {
      "cell_type": "markdown",
      "metadata": {
        "id": "Zs-hREaaIKuP"
      },
      "source": [
        "But, if we enforced the `is` or the  `identity` operator, it will return as `False` even though they have the same value because they have different data types."
      ]
    },
    {
      "cell_type": "code",
      "metadata": {
        "id": "supFMBPavxT9",
        "colab": {
          "base_uri": "https://localhost:8080/"
        },
        "outputId": "a41c0e0e-e713-429e-945a-fa677d2a7b3a"
      },
      "source": [
        "res_1 is true_val"
      ],
      "execution_count": null,
      "outputs": [
        {
          "output_type": "execute_result",
          "data": {
            "text/plain": [
              "False"
            ]
          },
          "metadata": {
            "tags": []
          },
          "execution_count": 46
        }
      ]
    },
    {
      "cell_type": "code",
      "metadata": {
        "id": "h97Udkeevz5n",
        "colab": {
          "base_uri": "https://localhost:8080/"
        },
        "outputId": "1cdbac00-705d-4c62-e91b-9d5f14919ff7"
      },
      "source": [
        "res_1 is not true_val"
      ],
      "execution_count": null,
      "outputs": [
        {
          "output_type": "execute_result",
          "data": {
            "text/plain": [
              "True"
            ]
          },
          "metadata": {
            "tags": []
          },
          "execution_count": 47
        }
      ]
    },
    {
      "cell_type": "markdown",
      "metadata": {
        "id": "lrrWQ_gGJL93"
      },
      "source": [
        "<i>The only condition where it will be </i> `True` <i>is when both values or all variables are true. In this case, the variable</i> `p` <i>is</i> `True` <i>while the variable</i> `q` <i>is</i> `False` <i>, hence the output will be</i> `False` <i>as well.</i> "
      ]
    },
    {
      "cell_type": "code",
      "metadata": {
        "id": "IWIunEhfv13q",
        "colab": {
          "base_uri": "https://localhost:8080/"
        },
        "outputId": "43d0bcc6-35b4-41f9-f814-2a16ff9e9e98"
      },
      "source": [
        "p, q = True, False\r\n",
        "conj = p and q\r\n",
        "conj"
      ],
      "execution_count": null,
      "outputs": [
        {
          "output_type": "execute_result",
          "data": {
            "text/plain": [
              "False"
            ]
          },
          "metadata": {
            "tags": []
          },
          "execution_count": 48
        }
      ]
    },
    {
      "cell_type": "markdown",
      "metadata": {
        "id": "l4BQhjDPJ8CA"
      },
      "source": [
        "The cell below is the **disjuntion operator** (or) will still be true as long as there is *at least one* variable that holds **true**."
      ]
    },
    {
      "cell_type": "code",
      "metadata": {
        "id": "VDdIM9D-v5U4",
        "colab": {
          "base_uri": "https://localhost:8080/"
        },
        "outputId": "aee063d1-36a7-4830-fb70-5fd3fecf0938"
      },
      "source": [
        "p, q = True, False\r\n",
        "disj = p or q \r\n",
        "disj"
      ],
      "execution_count": null,
      "outputs": [
        {
          "output_type": "execute_result",
          "data": {
            "text/plain": [
              "True"
            ]
          },
          "metadata": {
            "tags": []
          },
          "execution_count": 49
        }
      ]
    },
    {
      "cell_type": "markdown",
      "metadata": {
        "id": "zBExKvYOKVyq"
      },
      "source": [
        "We can't perform the negation in here. So firstly, we will do the `and` operator first, then following the `nand` operator so that it will invert the values.  "
      ]
    },
    {
      "cell_type": "code",
      "metadata": {
        "id": "q0XVDK6NLAgz",
        "colab": {
          "base_uri": "https://localhost:8080/"
        },
        "outputId": "c4bdfd3e-8dc9-449f-ea51-f599a8da749f"
      },
      "source": [
        "p, q = True, False\r\n",
        "nand = not(p and q)\r\n",
        "nand"
      ],
      "execution_count": null,
      "outputs": [
        {
          "output_type": "execute_result",
          "data": {
            "text/plain": [
              "True"
            ]
          },
          "metadata": {
            "tags": []
          },
          "execution_count": 50
        }
      ]
    },
    {
      "cell_type": "markdown",
      "metadata": {
        "id": "nd-Pltq1LeQ6"
      },
      "source": [
        "If we want to change the code below into **De Morgan's Theorem**, "
      ]
    },
    {
      "cell_type": "code",
      "metadata": {
        "id": "Rf-b3yx-Mcxn",
        "colab": {
          "base_uri": "https://localhost:8080/"
        },
        "outputId": "050346a3-32a5-47e4-bef8-9996d023538e"
      },
      "source": [
        "p, q = True, False\r\n",
        "nand = not(p and q)\r\n",
        "nand"
      ],
      "execution_count": null,
      "outputs": [
        {
          "output_type": "execute_result",
          "data": {
            "text/plain": [
              "True"
            ]
          },
          "metadata": {
            "tags": []
          },
          "execution_count": 51
        }
      ]
    },
    {
      "cell_type": "markdown",
      "metadata": {
        "id": "04Cszv9vMhLe"
      },
      "source": [
        "We will just simply add `nand_dm = not p or not q` underneath the `nand` variable."
      ]
    },
    {
      "cell_type": "code",
      "metadata": {
        "id": "mX0NiwG9v8NS",
        "colab": {
          "base_uri": "https://localhost:8080/"
        },
        "outputId": "a924054c-26b5-4b29-9915-b56ee45707c5"
      },
      "source": [
        "p, q = True, False\r\n",
        "nand = not(p and q)\r\n",
        "nand_dm = not p or not q\r\n",
        "nand == nand_dm"
      ],
      "execution_count": null,
      "outputs": [
        {
          "output_type": "execute_result",
          "data": {
            "text/plain": [
              "True"
            ]
          },
          "metadata": {
            "tags": []
          },
          "execution_count": 52
        }
      ]
    },
    {
      "cell_type": "markdown",
      "metadata": {
        "id": "IHNeIdSCM_B_"
      },
      "source": [
        "Lastly, in here, **XOR operator** will only be `true` if all the values *are not equal* to each other. Below are the examples of the **XOR** problem and their outputs:"
      ]
    },
    {
      "cell_type": "code",
      "metadata": {
        "id": "G-r87nJFv-kG",
        "colab": {
          "base_uri": "https://localhost:8080/"
        },
        "outputId": "4879dcd1-ccc0-491a-eb73-bdebac756cda"
      },
      "source": [
        "p, q = True, False\r\n",
        "xor = (not p and q) or (p and not q)\r\n",
        "xor"
      ],
      "execution_count": null,
      "outputs": [
        {
          "output_type": "execute_result",
          "data": {
            "text/plain": [
              "True"
            ]
          },
          "metadata": {
            "tags": []
          },
          "execution_count": 53
        }
      ]
    },
    {
      "cell_type": "code",
      "metadata": {
        "id": "oSSdmi_GNUFy",
        "colab": {
          "base_uri": "https://localhost:8080/"
        },
        "outputId": "7a9d9574-5254-457c-d8e8-75e350b691ae"
      },
      "source": [
        "p, q = True, True\r\n",
        "xor = (not p and q) or (p and not q)\r\n",
        "xor"
      ],
      "execution_count": null,
      "outputs": [
        {
          "output_type": "execute_result",
          "data": {
            "text/plain": [
              "False"
            ]
          },
          "metadata": {
            "tags": []
          },
          "execution_count": 54
        }
      ]
    },
    {
      "cell_type": "code",
      "metadata": {
        "id": "1WFWszvyNZyR",
        "colab": {
          "base_uri": "https://localhost:8080/"
        },
        "outputId": "5dc848c9-81c8-470b-b4cf-284a8d6f592f"
      },
      "source": [
        "p, q = False, True\r\n",
        "xor = (not p and q) or (p and not q)\r\n",
        "xor"
      ],
      "execution_count": null,
      "outputs": [
        {
          "output_type": "execute_result",
          "data": {
            "text/plain": [
              "True"
            ]
          },
          "metadata": {
            "tags": []
          },
          "execution_count": 55
        }
      ]
    },
    {
      "cell_type": "code",
      "metadata": {
        "id": "Ld6sJnicNdEG",
        "colab": {
          "base_uri": "https://localhost:8080/"
        },
        "outputId": "0a0cc559-5d17-4a71-def5-76efe382907b"
      },
      "source": [
        "p, q = False, False\r\n",
        "xor = (not p and q) or (p and not q)\r\n",
        "xor"
      ],
      "execution_count": null,
      "outputs": [
        {
          "output_type": "execute_result",
          "data": {
            "text/plain": [
              "False"
            ]
          },
          "metadata": {
            "tags": []
          },
          "execution_count": 56
        }
      ]
    },
    {
      "cell_type": "markdown",
      "metadata": {
        "id": "vL7rORfdwElw"
      },
      "source": [
        "<h4><b>e) Input/Output</b></h4>"
      ]
    },
    {
      "cell_type": "markdown",
      "metadata": {
        "id": "VnplxsV4zrqO"
      },
      "source": [
        "The `print()` function basically prints all the specified messsage to the screen. This can be a *string*, or any other object. This is also the simplest way to produce output wherein we can pass zero or more expressions which are separated by commas. The `print()` function converts the expressions that we pass into a string before writing to the screen."
      ]
    },
    {
      "cell_type": "code",
      "metadata": {
        "id": "o6SOWCDMwDlw",
        "colab": {
          "base_uri": "https://localhost:8080/"
        },
        "outputId": "3e9f8092-9d5d-4efb-d4d6-f8fece1647d6"
      },
      "source": [
        "print(\"wassup sa inyo dyan\")"
      ],
      "execution_count": null,
      "outputs": [
        {
          "output_type": "stream",
          "text": [
            "wassup sa inyo dyan\n"
          ],
          "name": "stdout"
        }
      ]
    },
    {
      "cell_type": "markdown",
      "metadata": {
        "id": "xA9icyAx2ig6"
      },
      "source": [
        "Basically, `cnt += 1` means that `cnt` is increased or added by **one**. It is the same as adding **a** and **b**—**a + b**, except that the `+` sign always return the newly allocated object. But `+=` should modify the object/ variable in place if it is mutable."
      ]
    },
    {
      "cell_type": "code",
      "metadata": {
        "id": "8WxFwRDFwM5d"
      },
      "source": [
        "cnt = 1"
      ],
      "execution_count": null,
      "outputs": []
    },
    {
      "cell_type": "code",
      "metadata": {
        "id": "ASRZF6I6wOyp",
        "colab": {
          "base_uri": "https://localhost:8080/"
        },
        "outputId": "cf7295a8-76c0-45de-dc70-30ea642f43ec"
      },
      "source": [
        "string = \"Hello World\"\r\n",
        "print(string, \", Current run count is:\", cnt)\r\n",
        "cnt += 1"
      ],
      "execution_count": null,
      "outputs": [
        {
          "output_type": "stream",
          "text": [
            "Hello World , Current run count is: 1\n"
          ],
          "name": "stdout"
        }
      ]
    },
    {
      "cell_type": "markdown",
      "metadata": {
        "id": "oKI8VTxg4W48"
      },
      "source": [
        "In here, `cnt` is implemented once again and it is increased by one and so, the current count that is printed as an output is `2`."
      ]
    },
    {
      "cell_type": "code",
      "metadata": {
        "id": "5xe0iTufwQ8v",
        "colab": {
          "base_uri": "https://localhost:8080/"
        },
        "outputId": "106bc150-0583-4174-9f77-25908db6d218"
      },
      "source": [
        "print(f\"{string}, Current count is: {cnt}\")"
      ],
      "execution_count": null,
      "outputs": [
        {
          "output_type": "stream",
          "text": [
            "Hello World, Current count is: 2\n"
          ],
          "name": "stdout"
        }
      ]
    },
    {
      "cell_type": "markdown",
      "metadata": {
        "id": "qg7Zy2qv5CGq"
      },
      "source": [
        "Here, we have a *long float* and we just want to get the 3 decimal places of it for accuracy. So what happened here is that we added `{:.3f}`. `.3` stands for the decimal place that we want to set—which is 3, and the `f` stands for **float**. "
      ]
    },
    {
      "cell_type": "code",
      "metadata": {
        "id": "g0U6jcU5wTQ1",
        "colab": {
          "base_uri": "https://localhost:8080/"
        },
        "outputId": "ca13f833-6ed5-46a4-8b7a-6853d885debf"
      },
      "source": [
        "sem_grade = 82.243564657461234\r\n",
        "name = \"Megumi\"\r\n",
        "print(\"Hello {}, your semestral grade is: {:.3f}\".format(name, sem_grade))\r\n"
      ],
      "execution_count": null,
      "outputs": [
        {
          "output_type": "stream",
          "text": [
            "Hello Megumi, your semestral grade is: 82.244\n"
          ],
          "name": "stdout"
        }
      ]
    },
    {
      "cell_type": "markdown",
      "metadata": {
        "id": "8SCcyE7L75ld"
      },
      "source": [
        "Here, if we want to compute percentages without actually computing for it, we can try adding the `{:.2%}` and then, it will automatically be in its **percentage form**. "
      ]
    },
    {
      "cell_type": "code",
      "metadata": {
        "id": "Fe5-ag2FwWKd",
        "colab": {
          "base_uri": "https://localhost:8080/"
        },
        "outputId": "3769803d-ea95-4629-a47f-8de9ca5de9ee"
      },
      "source": [
        "w_pg, w_mg, w_fg = 0.3, 0.3, 0.4\r\n",
        "print(\"The weights of your semestral grades are:\\\r\n",
        "\\n\\t{:.2%} for Prelims\\\r\n",
        "\\n\\t{:.2%} for Midterms, and\\\r\n",
        "\\n\\t{:.2%} for Finals.\".format(w_pg, w_mg, w_fg))"
      ],
      "execution_count": null,
      "outputs": [
        {
          "output_type": "stream",
          "text": [
            "The weights of your semestral grades are:\n",
            "\t30.00% for Prelims\n",
            "\t30.00% for Midterms, and\n",
            "\t40.00% for Finals.\n"
          ],
          "name": "stdout"
        }
      ]
    },
    {
      "cell_type": "markdown",
      "metadata": {
        "id": "a3wS7cnAB0wT"
      },
      "source": [
        "If we want to enter a text, we may use the `input()` function wherein it allows user input."
      ]
    },
    {
      "cell_type": "code",
      "metadata": {
        "id": "vl7iXK4YwY0K",
        "colab": {
          "base_uri": "https://localhost:8080/"
        },
        "outputId": "dee7287d-77db-45df-c3f3-f27aadfb1c29"
      },
      "source": [
        "x = int(input(\"enter a number: \"))\r\n",
        "x"
      ],
      "execution_count": 69,
      "outputs": [
        {
          "output_type": "stream",
          "text": [
            "enter a number: 7\n"
          ],
          "name": "stdout"
        },
        {
          "output_type": "execute_result",
          "data": {
            "text/plain": [
              "7"
            ]
          },
          "metadata": {
            "tags": []
          },
          "execution_count": 69
        }
      ]
    },
    {
      "cell_type": "code",
      "metadata": {
        "id": "HKL4MAaDBNkF",
        "colab": {
          "base_uri": "https://localhost:8080/"
        },
        "outputId": "2e8e0247-c5e9-45cb-b493-cd76af5111e6"
      },
      "source": [
        "name = input(\"Kimi no nawa: \")\r\n",
        "pg = float(input(\"Enter prelim grade: \"))\r\n",
        "mg = float(input(\"Enter midterm grade: \"))\r\n",
        "fg = float(input(\"Enter finals grade: \"))\r\n",
        "sem_grade = (pg*0.30) + (mg*0.30) + (fg*0.40)\r\n",
        "print(\"Hello {}! Your semestral grade is: {:.3}\".format(name, sem_grade))"
      ],
      "execution_count": 92,
      "outputs": [
        {
          "output_type": "stream",
          "text": [
            "Kimi no nawa: Nicole \n",
            "Enter prelim grade: 95\n",
            "Enter midterm grade: 98\n",
            "Enter finals grade: 99\n",
            "Hello Nicole ! Your semestral grade is: 97.5\n"
          ],
          "name": "stdout"
        }
      ]
    },
    {
      "cell_type": "markdown",
      "metadata": {
        "id": "KnIn9zHrBWxn"
      },
      "source": [
        "<h3> <b>ACTIVITY</b>"
      ]
    },
    {
      "cell_type": "code",
      "metadata": {
        "id": "2T-6x5yWDfEn"
      },
      "source": [
        "Create a grade calculator that computes for the semestral grade of a course.\r\n",
        "Students could type their names, the name of the course, then their prelim,\r\n",
        "midterm, and final grade.\r\n",
        "The program should print the semestral grade in 2 decimal points and should\r\n",
        "display the following emojis depending on the situation:\r\n",
        "happy - when grade is greater than 70.00\r\n",
        "laughing - when grade is exactly 70.00\r\n",
        "sad - when grade is below 70.00\r\n",
        "'''\r\n",
        "happy, lol, sad = \"\\U0001F600\",\"\\U0001F923\",\"\\U0001F619\""
      ],
      "execution_count": null,
      "outputs": []
    },
    {
      "cell_type": "markdown",
      "metadata": {
        "id": "-B8p1NGsBjPQ"
      },
      "source": [
        "By using the input function and some minor tweaking, we are able to achieve the computation for the semestral grades for the course **Titan Killing 101**. The `sem_grade`'s percentage are `0.30`, `0.30`, and `0.40`. \r\n",
        "\r\n",
        "Then we used the `if` and `elif` statements in order to achieve the displaying of the grades with their corresponding emojis. If they get a grade that is *higher* than `70`, the emoji that will appear would be **happy**. If it is **exactly** `70`, the emoji would the **laughing** one and if the grade is **below 70**, the emoji would be **sad**."
      ]
    },
    {
      "cell_type": "code",
      "metadata": {
        "id": "NN5117d-wkQa",
        "colab": {
          "base_uri": "https://localhost:8080/"
        },
        "outputId": "6a9d3d08-f66b-4c57-ea16-28dbb952b92c"
      },
      "source": [
        "name = input(\"Full Name: \")\r\n",
        "course = input(\"Course: \")\r\n",
        "pg = float(input(\"\\nEnter Prelim grade: \"))\r\n",
        "mg = float(input(\"Enter Midterm grade: \"))\r\n",
        "fg = float(input(\"Enter Finals grade: \"))\r\n",
        "sem_grade = (pg*0.30) + (mg*0.30) + (fg*0.40)\r\n",
        "if sem_grade >= 70:\r\n",
        "  print(\"\\nHello {}! Your semestral grade is: {:.2f} \\U0001F600\".format(name, sem_grade))\r\n",
        "elif sem_grade == 70:\r\n",
        "  print(\"\\nHello {}! Your semestral grade is: {:.2f} \\U0001F923\".format(name, sem_grade))\r\n",
        "elif sem_grade <= 69:\r\n",
        "  print(\"\\nHello {}! Your semestral grade is: {:.2f} \\U0001F614\".format(name, sem_grade))"
      ],
      "execution_count": null,
      "outputs": [
        {
          "output_type": "stream",
          "text": [
            "Full Name: Connie Springer\n",
            "Course: Titan Killing 101\n",
            "\n",
            "Enter Prelim grade: 98\n",
            "Enter Midterm grade: 93\n",
            "Enter Finals grade: 94.36\n",
            "\n",
            "Hello Connie Springer! Your semestral grade is: 95.04 😀\n"
          ],
          "name": "stdout"
        }
      ]
    },
    {
      "cell_type": "markdown",
      "metadata": {
        "id": "tozVaZIRwwO1"
      },
      "source": [
        "<h4>f) Iterables</h4>"
      ]
    },
    {
      "cell_type": "markdown",
      "metadata": {
        "id": "-Pngo_GPiQtk"
      },
      "source": [
        "Iterable is an object with a __iter__ method that returns a repeater or sets a __getitem__ method that can take an index starting at zero (and the index increases when the index is no longer correct)."
      ]
    },
    {
      "cell_type": "code",
      "metadata": {
        "id": "g8RFyzXCiR5E",
        "colab": {
          "base_uri": "https://localhost:8080/"
        },
        "outputId": "53f2b869-b2ea-4d4b-f96e-ddaef40f038c"
      },
      "source": [
        "d = { \"one\": 1, \"two\": 2, \"three\": 3, \"four\": 4, \"five\": 5 }\r\n",
        "iterable = d.keys()\r\n",
        "for item in iterable:\r\n",
        "    print(item)"
      ],
      "execution_count": 88,
      "outputs": [
        {
          "output_type": "stream",
          "text": [
            "one\n",
            "two\n",
            "three\n",
            "four\n",
            "five\n"
          ],
          "name": "stdout"
        }
      ]
    },
    {
      "cell_type": "code",
      "metadata": {
        "id": "4v9zxTVNiRfB",
        "colab": {
          "base_uri": "https://localhost:8080/"
        },
        "outputId": "ba26e507-bff2-4db0-86d2-c5c3377eac5d"
      },
      "source": [
        "Friends = [ \"Ross\",\"Joey\",\"Rachel\",\"Pheobe\" ]\r\n",
        "iterator = iter(Friends)\r\n",
        "x = next(iterator) \r\n",
        "print(x)"
      ],
      "execution_count": 89,
      "outputs": [
        {
          "output_type": "stream",
          "text": [
            "Ross\n"
          ],
          "name": "stdout"
        }
      ]
    },
    {
      "cell_type": "code",
      "metadata": {
        "id": "e2y_aESmFHNZ",
        "colab": {
          "base_uri": "https://localhost:8080/"
        },
        "outputId": "7691d6ee-d935-4708-e6a0-f24d0871864b"
      },
      "source": [
        "string = \"Garage\"\r\n",
        "iter = iter(string)\r\n",
        "\r\n",
        "print(next(iter))\r\n",
        "print(next(iter))\r\n",
        "print(next(iter))\r\n",
        "print(next(iter))\r\n",
        "print(next(iter))\r\n",
        "print(next(iter))"
      ],
      "execution_count": 90,
      "outputs": [
        {
          "output_type": "stream",
          "text": [
            "G\n",
            "a\n",
            "r\n",
            "a\n",
            "g\n",
            "e\n"
          ],
          "name": "stdout"
        }
      ]
    },
    {
      "cell_type": "code",
      "metadata": {
        "id": "pGX55S3oFhRx",
        "colab": {
          "base_uri": "https://localhost:8080/"
        },
        "outputId": "a414d9a3-b72f-4d2b-d75b-398eebcf8e92"
      },
      "source": [
        "mystr = \"banana\"\r\n",
        "for x in mystr:\r\n",
        "  print(x)"
      ],
      "execution_count": 91,
      "outputs": [
        {
          "output_type": "stream",
          "text": [
            "b\n",
            "a\n",
            "n\n",
            "a\n",
            "n\n",
            "a\n"
          ],
          "name": "stdout"
        }
      ]
    },
    {
      "cell_type": "markdown",
      "metadata": {
        "id": "w7cmU2UPw5Qs"
      },
      "source": [
        "<h4>g) Tuples</h4>"
      ]
    },
    {
      "cell_type": "markdown",
      "metadata": {
        "id": "0reA2R-Hfntd"
      },
      "source": [
        "It is a collection of objects that are organized and permanent. There are tuple sequences, like lists. The difference between tuples and lists is that tuples cannot be changed and tuples use brackets while the list uses square brackets."
      ]
    },
    {
      "cell_type": "code",
      "metadata": {
        "id": "uyz8RnE0fmpB",
        "colab": {
          "base_uri": "https://localhost:8080/"
        },
        "outputId": "6f368094-8b7b-49ce-c829-2198229c8e45"
      },
      "source": [
        "tup1 = ('Logic and Design', 'Object Oriented Programming Lab', 'Linear Algebra for CpE Lab','Visual Communication Lab');\r\n",
        "print(tup1)"
      ],
      "execution_count": 80,
      "outputs": [
        {
          "output_type": "stream",
          "text": [
            "('Logic and Design', 'Object Oriented Programming Lab', 'Linear Algebra for CpE Lab', 'Visual Communication Lab')\n"
          ],
          "name": "stdout"
        }
      ]
    },
    {
      "cell_type": "code",
      "metadata": {
        "id": "ZZc2JWe9nBR8",
        "colab": {
          "base_uri": "https://localhost:8080/"
        },
        "outputId": "b6834e99-e0e8-45a6-9014-fafc68abb47e"
      },
      "source": [
        "# Tuple having integers\r\n",
        "tuple1 = (1, 2, 3)\r\n",
        "print(tuple1)"
      ],
      "execution_count": 81,
      "outputs": [
        {
          "output_type": "stream",
          "text": [
            "(1, 2, 3)\n"
          ],
          "name": "stdout"
        }
      ]
    },
    {
      "cell_type": "code",
      "metadata": {
        "id": "ZVf-lHWTnJ2x",
        "colab": {
          "base_uri": "https://localhost:8080/"
        },
        "outputId": "373deedd-7862-4a47-832d-74c4544a765e"
      },
      "source": [
        "# tuple with mixed datatypes\r\n",
        "mixedtuple = (1, 'Hello', 2, 'World')\r\n",
        "print(mixedtuple)"
      ],
      "execution_count": 82,
      "outputs": [
        {
          "output_type": "stream",
          "text": [
            "(1, 'Hello', 2, 'World')\n"
          ],
          "name": "stdout"
        }
      ]
    },
    {
      "cell_type": "code",
      "metadata": {
        "id": "2ohG5fUcikI9",
        "colab": {
          "base_uri": "https://localhost:8080/"
        },
        "outputId": "d19ce6cc-6317-4e7f-f6bb-6d44f4c06433"
      },
      "source": [
        "# concatenation Tuple\r\n",
        "Friends= ('Ross Geller','Rachel Green','Monica Geller','Chandler Bing ','Joey Tribbiani','Pheobe Buffay')\r\n",
        "TL=('Watchu doin','Joey, doesnt share food','We were on a break')\r\n",
        "print(Friends + TL)"
      ],
      "execution_count": 83,
      "outputs": [
        {
          "output_type": "stream",
          "text": [
            "('Ross Geller', 'Rachel Green', 'Monica Geller', 'Chandler Bing ', 'Joey Tribbiani', 'Pheobe Buffay', 'Watchu doin', 'Joey, doesnt share food', 'We were on a break')\n"
          ],
          "name": "stdout"
        }
      ]
    },
    {
      "cell_type": "code",
      "metadata": {
        "id": "L8gM5buAknDW",
        "colab": {
          "base_uri": "https://localhost:8080/"
        },
        "outputId": "b11f2415-e7e6-4ef4-e1a8-b338478e82d0"
      },
      "source": [
        "# Converting List into Tuple\r\n",
        "List1 = [1, 2, 3, 4, 5] \r\n",
        "print(tuple(List1)) \r\n",
        "print(tuple('Friends')) # string 'python'"
      ],
      "execution_count": 84,
      "outputs": [
        {
          "output_type": "stream",
          "text": [
            "(1, 2, 3, 4, 5)\n",
            "('F', 'r', 'i', 'e', 'n', 'd', 's')\n"
          ],
          "name": "stdout"
        }
      ]
    },
    {
      "cell_type": "code",
      "metadata": {
        "id": "1x8r53ZXlEwO",
        "colab": {
          "base_uri": "https://localhost:8080/"
        },
        "outputId": "9c5112ea-187b-44e9-f5a4-bb24ce0bbcd2"
      },
      "source": [
        "# Finding the length of the tuple\r\n",
        "Tuple1 = ('Goal', 'Diggers') \r\n",
        "print(len(Tuple1))"
      ],
      "execution_count": 85,
      "outputs": [
        {
          "output_type": "stream",
          "text": [
            "2\n"
          ],
          "name": "stdout"
        }
      ]
    },
    {
      "cell_type": "code",
      "metadata": {
        "id": "zhsC3qQfnl7j",
        "colab": {
          "base_uri": "https://localhost:8080/"
        },
        "outputId": "1d4352a4-26bc-49a8-fa1e-af4d42bb8159"
      },
      "source": [
        "# Accessing tuple elements using slicing\r\n",
        "my_tuple = ('a','d','a','m','s','o','n')\r\n",
        "\r\n",
        "# elements 2nd to 4th\r\n",
        "print(my_tuple[1:4])"
      ],
      "execution_count": 86,
      "outputs": [
        {
          "output_type": "stream",
          "text": [
            "('d', 'a', 'm')\n"
          ],
          "name": "stdout"
        }
      ]
    },
    {
      "cell_type": "code",
      "metadata": {
        "id": "ao1DjnQFoF0F",
        "colab": {
          "base_uri": "https://localhost:8080/"
        },
        "outputId": "b0ac9644-5886-462c-b7f3-2b4be0f8e15a"
      },
      "source": [
        "# Membership test in tuple\r\n",
        "# The word \"in\" wil determine whether the letter exist on the tuple\r\n",
        "my_tuple = ('f', 'r', 'a', 'n', 'k',)\r\n",
        "\r\n",
        "# In operation\r\n",
        "print('f' in my_tuple)\r\n",
        "print('b' in my_tuple)\r\n",
        "\r\n",
        "# Not in operation\r\n",
        "print('k' not in my_tuple)"
      ],
      "execution_count": 87,
      "outputs": [
        {
          "output_type": "stream",
          "text": [
            "True\n",
            "False\n",
            "False\n"
          ],
          "name": "stdout"
        }
      ]
    },
    {
      "cell_type": "markdown",
      "metadata": {
        "id": "AeHvXp8sxAqV"
      },
      "source": [
        "<h4>h) Dictionaries</h4>"
      ]
    },
    {
      "cell_type": "markdown",
      "metadata": {
        "id": "Q4NudW5BiPd_"
      },
      "source": [
        "Dictionaries Python's data structure is often called an auxiliary structure. The dictionary contains a collection of key-value pairs. Each key-value pair assigns a key to its assigned value. Can define a dictionary by attaching a comma-separated list of key-value pairs in **curly braces ({})**. **Colon (:)** separates each key from its relative value. It can also create a dictionary with the built-in **dict()** function."
      ]
    },
    {
      "cell_type": "code",
      "metadata": {
        "id": "-L2F0bkniP3A",
        "colab": {
          "base_uri": "https://localhost:8080/"
        },
        "outputId": "a0ba9c98-ca58-4e01-a038-79bf5df6e970"
      },
      "source": [
        "# Creating Phyton Dictionary\r\n",
        "dict1 = {\r\n",
        "  \"brand\": \"Dodge\",\r\n",
        "  \"model\": \"Challenger\",\r\n",
        "  \"year\": 1964\r\n",
        "}\r\n",
        "dict1"
      ],
      "execution_count": 76,
      "outputs": [
        {
          "output_type": "execute_result",
          "data": {
            "text/plain": [
              "{'brand': 'Dodge', 'model': 'Challenger', 'year': 1964}"
            ]
          },
          "metadata": {
            "tags": []
          },
          "execution_count": 76
        }
      ]
    },
    {
      "cell_type": "code",
      "metadata": {
        "id": "idow6dJPHdki",
        "colab": {
          "base_uri": "https://localhost:8080/",
          "height": 248
        },
        "outputId": "eb1dc868-fa86-4f35-f525-4e64b924f05e"
      },
      "source": [
        "# Accessing the Dictionary\r\n",
        "dict1 = {'name': 'Michelle', 'age': 20}\r\n",
        "print(dict1['name'])\r\n",
        "print(dict1.get('age'))\r\n",
        "\r\n",
        "# Trying to access keys which doesn't exist throws error\r\n",
        "# Output None\r\n",
        "print(dict1.get('address'))\r\n",
        "\r\n",
        "# KeyError\r\n",
        "# If you use square brackets [], you will get a KeyError if the key cannot be found in the dictionary.\r\n",
        "print(dict1['address'])"
      ],
      "execution_count": 79,
      "outputs": [
        {
          "output_type": "stream",
          "text": [
            "Michelle\n",
            "20\n",
            "None\n"
          ],
          "name": "stdout"
        },
        {
          "output_type": "error",
          "ename": "TypeError",
          "evalue": "ignored",
          "traceback": [
            "\u001b[0;31m---------------------------------------------------------------------------\u001b[0m",
            "\u001b[0;31mTypeError\u001b[0m                                 Traceback (most recent call last)",
            "\u001b[0;32m<ipython-input-79-6703eae6870b>\u001b[0m in \u001b[0;36m<module>\u001b[0;34m()\u001b[0m\n\u001b[1;32m     10\u001b[0m \u001b[0;31m# KeyError\u001b[0m\u001b[0;34m\u001b[0m\u001b[0;34m\u001b[0m\u001b[0;34m\u001b[0m\u001b[0m\n\u001b[1;32m     11\u001b[0m \u001b[0;31m# If you use square brackets [], you will get a KeyError if the key cannot be found in the dictionary.\u001b[0m\u001b[0;34m\u001b[0m\u001b[0;34m\u001b[0m\u001b[0;34m\u001b[0m\u001b[0m\n\u001b[0;32m---> 12\u001b[0;31m \u001b[0mprint\u001b[0m\u001b[0;34m(\u001b[0m\u001b[0mdict1\u001b[0m\u001b[0;34m(\u001b[0m\u001b[0;34m'address'\u001b[0m\u001b[0;34m)\u001b[0m\u001b[0;34m)\u001b[0m\u001b[0;34m\u001b[0m\u001b[0;34m\u001b[0m\u001b[0m\n\u001b[0m",
            "\u001b[0;31mTypeError\u001b[0m: 'dict' object is not callable"
          ]
        }
      ]
    },
    {
      "cell_type": "code",
      "metadata": {
        "id": "zyW6R-LFTGk-"
      },
      "source": [
        "# Changing and adding Dictionary Elements\r\n",
        "my_dict = {'name': 'Michelle', 'age': 20}\r\n",
        "\r\n",
        "# update value\r\n",
        "my_dict['age'] = 21\r\n",
        "print(my_dict)\r\n",
        "\r\n",
        "# add item\r\n",
        "my_dict['address'] = 'Bacoor'\r\n",
        "\r\n",
        "print(my_dict)"
      ],
      "execution_count": null,
      "outputs": []
    },
    {
      "cell_type": "markdown",
      "metadata": {
        "id": "CGBL-YTAxKk0"
      },
      "source": [
        "<h3><b>III. LOOPING STATEMENTS</b></h3>"
      ]
    },
    {
      "cell_type": "markdown",
      "metadata": {
        "id": "qYa-SfhHxVd1"
      },
      "source": [
        "<h4>a) While</h4>"
      ]
    },
    {
      "cell_type": "markdown",
      "metadata": {
        "id": "9PY0q6UrrVzV"
      },
      "source": [
        "The while Statment requires important factors to be prepared, in this model we need to characterize an ordering variable, I, which we set to 1"
      ]
    },
    {
      "cell_type": "code",
      "metadata": {
        "id": "SoNmYgpB-20l",
        "colab": {
          "base_uri": "https://localhost:8080/"
        },
        "outputId": "6ae5c46c-0d7c-4c16-986a-4f95c293f087"
      },
      "source": [
        "i = 2\r\n",
        "while i < 6:\r\n",
        "  print(i)\r\n",
        "  if i == 3:\r\n",
        "    break\r\n",
        "  i += 1"
      ],
      "execution_count": 75,
      "outputs": [
        {
          "output_type": "stream",
          "text": [
            "2\n",
            "3\n"
          ],
          "name": "stdout"
        }
      ]
    },
    {
      "cell_type": "code",
      "metadata": {
        "colab": {
          "base_uri": "https://localhost:8080/"
        },
        "id": "oN-rA5AusDyc",
        "outputId": "5a57a9fd-6ff2-4427-95ab-949f3c22df74"
      },
      "source": [
        "i = 1\r\n",
        "while i < 6:\r\n",
        "  print(i)\r\n",
        "  if i == 10:\r\n",
        "    break\r\n",
        "  i += 1"
      ],
      "execution_count": 74,
      "outputs": [
        {
          "output_type": "stream",
          "text": [
            "1\n",
            "2\n",
            "3\n",
            "4\n",
            "5\n"
          ],
          "name": "stdout"
        }
      ]
    },
    {
      "cell_type": "markdown",
      "metadata": {
        "id": "BSnM7BptxV54"
      },
      "source": [
        "<h4>b) For</h4>"
      ]
    },
    {
      "cell_type": "markdown",
      "metadata": {
        "id": "cV6llc5FrbDs"
      },
      "source": [
        "A for loop is utilized for repeating over an arrangement that is either a rundown, a tuple, a word reference, a set, or a string.  This is less similar to the for catchphrase in other programming dialects, and works more like an iterator technique as found in other article orientated programming dialects."
      ]
    },
    {
      "cell_type": "code",
      "metadata": {
        "id": "NDLK-Mp7yOp-",
        "colab": {
          "base_uri": "https://localhost:8080/"
        },
        "outputId": "7bf16336-5a9d-4cd4-f2a7-7bf5ac6f1c56"
      },
      "source": [
        "members = [\"Angelo\",\"Escobar\", \"Guzman\", \"Roa\"]\r\n",
        "for x in members:\r\n",
        "  print(x)"
      ],
      "execution_count": 72,
      "outputs": [
        {
          "output_type": "stream",
          "text": [
            "Angelo\n",
            "Escobar\n",
            "Guzman\n",
            "Roa\n"
          ],
          "name": "stdout"
        }
      ]
    },
    {
      "cell_type": "code",
      "metadata": {
        "id": "KXgCYOHiw_n5",
        "colab": {
          "base_uri": "https://localhost:8080/"
        },
        "outputId": "0c4e999c-a1ee-48af-8211-5380604915fd"
      },
      "source": [
        "num= 6\r\n",
        "if num > 0 :\r\n",
        "    print (\"Positive Number\")\r\n",
        "elif num == 0 :\r\n",
        "  print (\"Zero\")\r\n",
        "else:\r\n",
        "  print (\"Negative Number\")"
      ],
      "execution_count": 73,
      "outputs": [
        {
          "output_type": "stream",
          "text": [
            "Positive Number\n"
          ],
          "name": "stdout"
        }
      ]
    },
    {
      "cell_type": "markdown",
      "metadata": {
        "id": "6b7hzCkHxhr7"
      },
      "source": [
        "\r\n",
        "\r\n",
        "<h3><b>IV. FLOW CONTROL</b></h3>"
      ]
    },
    {
      "cell_type": "markdown",
      "metadata": {
        "id": "2gmktgaEpXxt"
      },
      "source": [
        "The Flow Control of a Python program is controlled by contingent explanations, circles, and capacity calls. Python has three sorts of control structures: Consecutive - default mode. Choice - utilized for choices and expanding."
      ]
    },
    {
      "cell_type": "markdown",
      "metadata": {
        "id": "j7mt2Em7p9jE"
      },
      "source": [
        "<h4> Condition Statements"
      ]
    },
    {
      "cell_type": "code",
      "metadata": {
        "id": "lm1-za1rUeST",
        "colab": {
          "base_uri": "https://localhost:8080/"
        },
        "outputId": "2398f259-a001-4c36-c726-4625ae0e636d"
      },
      "source": [
        "num= -5\r\n",
        "if num > 0 :\r\n",
        "    print (\"Positive Number\")\r\n",
        "elif num == 0 :\r\n",
        "  print (\"Zero\")\r\n",
        "else:\r\n",
        "  print (\"Negative Number\")"
      ],
      "execution_count": 70,
      "outputs": [
        {
          "output_type": "stream",
          "text": [
            "Negative Number\n"
          ],
          "name": "stdout"
        }
      ]
    },
    {
      "cell_type": "code",
      "metadata": {
        "id": "YXEZuf8BUiSJ",
        "colab": {
          "base_uri": "https://localhost:8080/"
        },
        "outputId": "9f4be29f-3b07-412c-c50c-bdbdc4c13c94"
      },
      "source": [
        "num= 0\r\n",
        "if num > 0 :\r\n",
        "    print (\"Positive Number\")\r\n",
        "elif num == 0 :\r\n",
        "  print (\"Zero\")\r\n",
        "else:\r\n",
        "  print (\"Negative Number\")"
      ],
      "execution_count": 71,
      "outputs": [
        {
          "output_type": "stream",
          "text": [
            "Zero\n"
          ],
          "name": "stdout"
        }
      ]
    },
    {
      "cell_type": "code",
      "metadata": {
        "colab": {
          "base_uri": "https://localhost:8080/"
        },
        "id": "Ej_WGKhbqDmN",
        "outputId": "01bd96a2-b341-4407-bc49-9dab4c447b54"
      },
      "source": [
        "numeral1, numeral2 = 12, 12\r\n",
        "if(numeral1 == numeral2):\r\n",
        "    print(\"Yey\")\r\n",
        "elif(numeral1>numeral2):\r\n",
        "    print(\"Hoho\")\r\n",
        "else:\r\n",
        "    print(\"Aww\")\r\n",
        "print(\"Hip hip\")"
      ],
      "execution_count": null,
      "outputs": [
        {
          "output_type": "stream",
          "text": [
            "Yey\n",
            "Hip hip\n"
          ],
          "name": "stdout"
        }
      ]
    },
    {
      "cell_type": "markdown",
      "metadata": {
        "id": "ANnOjlBqjZ75"
      },
      "source": [
        "\r\n",
        "\r\n",
        "<h3><b>V. Functions</b></h3>"
      ]
    },
    {
      "cell_type": "markdown",
      "metadata": {
        "id": "QmaQwnS4xm7U"
      },
      "source": [
        "A function refers to a block of code which runs if and only if it is called, passing of data (parameters) into a functions  is possible and returns data as a result.\r\n",
        "<br>\r\n",
        "<br> Creating a function in python uses the function `def` and calling a function is simply done by using the function name assigned."
      ]
    },
    {
      "cell_type": "code",
      "metadata": {
        "id": "YoX7zweZqJtN"
      },
      "source": [
        "# void DeleteUser(int userid){\r\n",
        "#     delete(userid);\r\n",
        "# }\r\n",
        "\r\n",
        "def delete_user (userid):\r\n",
        "    print(\"Successfully deleted user: {}\".format(userid))\r\n",
        "    \r\n",
        "def delete_all_users ():\r\n",
        "    print(\"Successfully deleted all users\")"
      ],
      "execution_count": 66,
      "outputs": []
    },
    {
      "cell_type": "code",
      "metadata": {
        "id": "mcFQ46bFqKyi",
        "colab": {
          "base_uri": "https://localhost:8080/"
        },
        "outputId": "77d9b52e-6046-4fb1-931e-0f9a8038f023"
      },
      "source": [
        "userid = 0\r\n",
        "delete_user(0)\r\n",
        "delete_all_users()"
      ],
      "execution_count": 67,
      "outputs": [
        {
          "output_type": "stream",
          "text": [
            "Successfully deleted user: 0\n",
            "Successfully deleted all users\n"
          ],
          "name": "stdout"
        }
      ]
    },
    {
      "cell_type": "code",
      "metadata": {
        "id": "VWPAIdc6qM_M"
      },
      "source": [
        "def add(addend1, addend2):\r\n",
        "    return addend1 + addend2\r\n",
        "\r\n",
        "def power_of_base2(exponent):\r\n",
        "    return 2**exponent"
      ],
      "execution_count": 68,
      "outputs": []
    },
    {
      "cell_type": "markdown",
      "metadata": {
        "id": "xvAp6AYJqkBz"
      },
      "source": [
        "<h4> Lambda Functions"
      ]
    },
    {
      "cell_type": "markdown",
      "metadata": {
        "id": "nJ4t_A5zy66v"
      },
      "source": [
        "The function `lambda` is an anonymous function, it can take a number of arguments into a single expression."
      ]
    },
    {
      "cell_type": "code",
      "metadata": {
        "id": "KIErJ7avqsw7"
      },
      "source": [
        "x = 4"
      ],
      "execution_count": 63,
      "outputs": []
    },
    {
      "cell_type": "code",
      "metadata": {
        "id": "25WRVbJDqzUY",
        "colab": {
          "base_uri": "https://localhost:8080/"
        },
        "outputId": "c769be56-2e06-47f1-e0bb-05fc36be810d"
      },
      "source": [
        "def f(x):\r\n",
        "  return 2*(x*x)-1\r\n",
        "f(x)"
      ],
      "execution_count": 64,
      "outputs": [
        {
          "output_type": "execute_result",
          "data": {
            "text/plain": [
              "31"
            ]
          },
          "metadata": {
            "tags": []
          },
          "execution_count": 64
        }
      ]
    },
    {
      "cell_type": "code",
      "metadata": {
        "id": "-jg2ivUAq1r7",
        "colab": {
          "base_uri": "https://localhost:8080/"
        },
        "outputId": "7eb0c1fe-d9c9-4fb9-c5fa-05f76e0e088e"
      },
      "source": [
        "g = lambda x: 2*(x*x)-1\r\n",
        "print(g(x))"
      ],
      "execution_count": 65,
      "outputs": [
        {
          "output_type": "stream",
          "text": [
            "31\n"
          ],
          "name": "stdout"
        }
      ]
    },
    {
      "cell_type": "markdown",
      "metadata": {
        "id": "cqeJ7WHU94NT"
      },
      "source": [
        "## **REFERENCES**"
      ]
    },
    {
      "cell_type": "markdown",
      "metadata": {
        "id": "NwAwQZJ4i9PQ"
      },
      "source": [
        "[1] aarushiramesh, “aarushiramesh/Build_with_Rushi,” GitHub, Aug. 25, 2020. https://github.com/aarushiramesh/Build_with_Rushi/blob/master/Grade_Calculator/grade_calculator.py (accessed Feb. 10, 2021).<br>‌\r\n",
        "[2] Tutorialspoint. “Python - Tuples - Tutorialspoint.” Tutorialspoint. https://www.tutorialspoint.com/python/python_tuples.htm (accessed: Feb. 10, 2021).<br>\r\n",
        "[3] “Python print() Function,” W3schools.com, 2021. https://www.w3schools.com/python/ref_func_print.asp (accessed Feb. 10, 2021).<br>\r\n",
        "[4] “Python | Output using print() function - GeeksforGeeks,” GeeksforGeeks, Dec. 14, 2018. https://www.geeksforgeeks.org/python-output-using-print-function/ (accessed Feb. 10, 2021).<br>\r\n",
        "[5]\r\n",
        "A. Mahdal. “What exactly are iterator, iterable, and iteration? - Stack Overflow.” https://stackoverflow.com/questions/9884132/what-exactly-are-iterator-iterable-and-iteration (accessed: Feb. 10, 2021).<br>\r\n",
        "[6]\r\n",
        "J. Sturz. “Dictionaries in Python – Real Python.” Real Python. https://realpython.com/python-dicts/ (accessed: Feb. 10, 2021).<br>\r\n",
        "[7]Ankthon, “Assignment Operators in Python,” GeeksforGeeks, 29-Aug-2020. [Online]. Available: https://www.geeksforgeeks.org/assignment-operators-in-python/. (Accessed: 11-Feb-2021). <br>\r\n",
        "[8] “Inplace vs Standard Operators in Python - GeeksforGeeks,” GeeksforGeeks, Jan. 10, 2017. https://www.geeksforgeeks.org/inplace-vs-standard-operators-python/ (accessed Feb. 13, 2021).<br>\r\n",
        "[9] “What does += mean in Python?,” Stack Overflow, May 05, 2009. https://stackoverflow.com/questions/823561/what-does-mean-in-python/823878 (accessed Feb. 13, 2021).<br>\r\n",
        "[10] “Python input() Function,” W3schools.com, 2021. https://www.w3schools.com/python/ref_func_input.asp (accessed Feb. 13, 2021).<br>\r\n",
        "[11] “Python While Loops,” W3schools.com, 2021. https://www.w3schools.com/python/python_while_loops.asp (accessed Feb. 13, 2021).<br>\r\n",
        "[12] “Python For Loops,” W3schools.com, 2021. https://www.w3schools.com/python/python_for_loops.asp (accessed Feb. 13, 2021).<br>\r\n",
        "[13] DataFlair. 2021. Python Comparison Operators with Syntax and Examples - DataFlair. [online] Available at: <https://data-flair.training/blogs/python-comparison-operators/> [Accessed 13 February 2021].<br>\r\n",
        "[14] W3schools.com. 2021. Python Functions. [online] Available at: <https://www.w3schools.com/python/python_functions.asp> [Accessed 13 February 2021].<br>\r\n",
        "[15] W3schools.com. 2021. Python Lambda. [online] Available at: <https://www.w3schools.com/python/python_lambda.asp> [Accessed 13 February 2021]."
      ]
    }
  ]
}